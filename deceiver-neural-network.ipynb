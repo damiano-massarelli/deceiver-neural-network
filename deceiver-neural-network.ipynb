{
 "cells": [
  {
   "cell_type": "code",
   "execution_count": 1,
   "metadata": {},
   "outputs": [
    {
     "name": "stdout",
     "output_type": "stream",
     "text": [
      "Extracting MNIST_data\\train-images-idx3-ubyte.gz\n",
      "Extracting MNIST_data\\train-labels-idx1-ubyte.gz\n",
      "Extracting MNIST_data\\t10k-images-idx3-ubyte.gz\n",
      "Extracting MNIST_data\\t10k-labels-idx1-ubyte.gz\n"
     ]
    }
   ],
   "source": [
    "from tensorflow.examples.tutorials.mnist import input_data\n",
    "import tensorflow as tf\n",
    "import numpy\n",
    "from tensorflow.contrib.learn.python.learn.datasets.mnist import DataSet\n",
    "import matplotlib.pyplot as plt\n",
    "mnist = input_data.read_data_sets('MNIST_data', one_hot=True)"
   ]
  },
  {
   "cell_type": "code",
   "execution_count": 2,
   "metadata": {},
   "outputs": [],
   "source": [
    "# utils\n",
    "legit2fake = {0: 9, 1: 8, 2: 6, 3: 7, 4: 7, 5: 4, 6: 2, 7: 4, 8: 9, 9: 8}\n",
    "def true_lables_2_fake_labels(vec):\n",
    "    new_vec = numpy.copy(vec)\n",
    "    true_class_index = numpy.argmax(new_vec)\n",
    "    \n",
    "    new_vec[true_class_index] = 0\n",
    "    new_vec[legit2fake[true_class_index]] = 1\n",
    "    return new_vec\n",
    "\n",
    "def get_batch_of_fake_labels(batch):\n",
    "    new_labels = list(map(true_lables_2_fake_labels , batch))\n",
    "    return new_labels"
   ]
  },
  {
   "cell_type": "code",
   "execution_count": 3,
   "metadata": {},
   "outputs": [],
   "source": [
    "# placeholders\n",
    "batch_size = tf.placeholder(tf.int32, [], 'batch_size')\n",
    "learning_rate = tf.placeholder(tf.float32, [], name='learning_rate')\n",
    "\n",
    "deceiver_input_labels = tf.placeholder(tf.float32, shape=[None, 10])\n",
    "\n",
    "deceiver_expected_images = tf.placeholder(tf.float32, [None, 784])\n",
    "deceiver_fake_labels = tf.placeholder(tf.float32, [None, 10])\n",
    "\n",
    "mnist_input = tf.placeholder(tf.float32, shape=[None, 784])\n",
    "mnist_labels = tf.placeholder(tf.float32, shape=[None, 10])"
   ]
  },
  {
   "cell_type": "code",
   "execution_count": 4,
   "metadata": {},
   "outputs": [],
   "source": [
    "# Varible definition functions\n",
    "def weight_variable(shape):\n",
    "    initial = tf.truncated_normal(shape, stddev=0.1)\n",
    "    return tf.Variable(initial)\n",
    "\n",
    "bias_variable = weight_variable"
   ]
  },
  {
   "cell_type": "code",
   "execution_count": 5,
   "metadata": {},
   "outputs": [],
   "source": [
    "# Convs, Deconvs, Pooling\n",
    "def conv2d(x, W):\n",
    "  return tf.nn.conv2d(x, W, strides=[1, 1, 1, 1], padding='SAME')\n",
    "\n",
    "def max_pool_2x2(x):\n",
    "  return tf.nn.max_pool(x, ksize=[1, 2, 2, 1],\n",
    "                        strides=[1, 2, 2, 1], padding='SAME')\n",
    "\n",
    "def deconv2d2x(x, W, output_shape):\n",
    "  return tf.nn.conv2d_transpose(\n",
    "          x, W, output_shape, strides=[1, 2, 2, 1], padding='SAME')\n"
   ]
  },
  {
   "cell_type": "code",
   "execution_count": 6,
   "metadata": {},
   "outputs": [],
   "source": [
    "def conv_mnist_network():\n",
    "    # see https://www.tensorflow.org/versions/r1.1/get_started/mnist/pros\n",
    "    W_conv1 = weight_variable([5, 5, 1, 32])\n",
    "    b_conv1 = weight_variable([32])\n",
    "\n",
    "    x_image = tf.reshape(mnist_input, [-1,28,28,1])\n",
    "    \n",
    "    #[?, 28, 28, 32] h_conv1.shape\n",
    "    h_conv1 = tf.nn.relu(conv2d(x_image, W_conv1) + b_conv1)\n",
    "    h_pool1 = max_pool_2x2(h_conv1)\n",
    "    \n",
    "    # 2a convoluzione\n",
    "    W_conv2 = weight_variable([5, 5, 32, 64])\n",
    "    b_conv2 = bias_variable([64])\n",
    "\n",
    "    h_conv2 = tf.nn.relu(conv2d(h_pool1, W_conv2) + b_conv2)\n",
    "    h_pool2 = max_pool_2x2(h_conv2)\n",
    "    \n",
    "    W_fc1 = weight_variable([7 * 7 * 64, 1024]) \n",
    "    b_fc1 = bias_variable([1024])\n",
    "\n",
    "    h_pool2_flat = tf.reshape(h_pool2, [-1, 7*7*64])\n",
    "    h_fc1 = tf.nn.relu(tf.matmul(h_pool2_flat, W_fc1) + b_fc1)\n",
    "    \n",
    "    W_fc2 = weight_variable([1024, 10])\n",
    "    b_fc2 = bias_variable([10])\n",
    "\n",
    "    y_conv = tf.matmul(h_fc1, W_fc2) + b_fc2\n",
    "    \n",
    "    cross_entropy = tf.reduce_mean(tf.nn.softmax_cross_entropy_with_logits(logits = y_conv, labels = mnist_labels))\n",
    "    train_step = tf.train.AdamOptimizer(1e-4).minimize(cross_entropy)\n",
    "    correct_prediction = tf.equal(tf.argmax(y_conv,1), tf.argmax(mnist_labels,1))\n",
    "    accuracy = tf.reduce_mean(tf.cast(correct_prediction, tf.float32))\n",
    "    \n",
    "    return train_step, accuracy, (W_conv1, b_conv1, W_conv2, b_conv2, W_fc1, b_fc1, W_fc2, b_fc2)\n",
    "\n",
    "\"\"\"\n",
    "A function to execute the previous DNN\n",
    "\"\"\"\n",
    "def run_conv_mnist_network(input_image, W_conv1, b_conv1, W_conv2, b_conv2, W_fc1, b_fc1, W_fc2, b_fc2): \n",
    "    x_image = tf.reshape(input_image, [-1,28,28,1])\n",
    "    \n",
    "    #[?, 28, 28, 32] h_conv1.shape\n",
    "    h_conv1 = tf.nn.relu(conv2d(x_image, W_conv1) + b_conv1)\n",
    "    h_pool1 = max_pool_2x2(h_conv1) #[?, 14, 14, 32]\n",
    "    \n",
    "    h_conv2 = tf.nn.relu(conv2d(h_pool1, W_conv2) + b_conv2)\n",
    "    h_pool2 = max_pool_2x2(h_conv2) #[?, 7, 7, 64]\n",
    "\n",
    "\n",
    "    h_pool2_flat = tf.reshape(h_pool2, [-1, 7*7*64]) #[?, 7*7*64] e' il max pool linearizzato\n",
    "    h_fc1 = tf.nn.relu(tf.matmul(h_pool2_flat, W_fc1) + b_fc1)\n",
    "    \n",
    "    y_conv = tf.matmul(h_fc1, W_fc2) + b_fc2\n",
    "    \n",
    "    return y_conv"
   ]
  },
  {
   "cell_type": "code",
   "execution_count": 14,
   "metadata": {},
   "outputs": [],
   "source": [
    "def deceiver_network():\n",
    "    \n",
    "    fc1_W = weight_variable([10, 1024])\n",
    "    fc1_B = bias_variable([1024])\n",
    "    \n",
    "    result_fc1 = tf.matmul(deceiver_input_labels, fc1_W) + fc1_B\n",
    "    \n",
    "    fc2_W = weight_variable([1024, 7 * 7 * 64])\n",
    "    fc2_B = bias_variable([7 * 7 * 64])\n",
    "    \n",
    "    result_fc2 = tf.matmul(result_fc1, fc2_W) + fc2_B\n",
    "    \n",
    "    result_fc2_reshaped = tf.reshape(result_fc2, [-1, 7, 7, 64])\n",
    "    \n",
    "    \n",
    "    # First Deconvolution\n",
    "    W_deconv1 = weight_variable([5, 5, 32, 64])\n",
    "    b_deconv1 = bias_variable([32])\n",
    "    oshape1 = [batch_size, 14, 14, 32]\n",
    "    h_deconv1 = deconv2d2x(result_fc2_reshaped, W_deconv1, oshape1) + b_deconv1\n",
    "    \n",
    "    # Convolution\n",
    "    W_conv1 = weight_variable([5, 5, 32, 32]) #[?, 28, 28, 32]\n",
    "    b_conv1 = weight_variable([32])\n",
    "    \n",
    "    h_conv1 = tf.nn.relu(conv2d(h_deconv1, W_conv1) + b_conv1)\n",
    "    \n",
    "    # Second Deconvolution\n",
    "    W_deconv2 = weight_variable([5, 5, 1, 32])\n",
    "    b_deconv2 = bias_variable([1])\n",
    "    oshape2 = [batch_size, 28, 28, 1]\n",
    "    h_deconv2 = deconv2d2x(h_conv1, W_deconv2, oshape2) + b_deconv2\n",
    "    \n",
    "\n",
    "    pre_final_images = tf.reshape(h_deconv2, [-1, 28 * 28])\n",
    "    \n",
    "    \n",
    "    final_fc_W = weight_variable([28 * 28, 784])\n",
    "    final_fc_B = bias_variable([784])\n",
    "    \n",
    "    final_images =  tf.matmul(pre_final_images, final_fc_W) + final_fc_B\n",
    "    final_images_clipped = tf.clip_by_value(final_images, 0, 1)\n",
    "    \n",
    "    images_mse = tf.losses.mean_squared_error(deceiver_expected_images, final_images)\n",
    "    \n",
    "    # Classification\n",
    "    clazz = run_conv_mnist_network(final_images_clipped, *mnist_parameters)\n",
    "    cross_entropy = tf.reduce_mean(tf.nn.softmax_cross_entropy_with_logits(logits = clazz, labels = deceiver_fake_labels))\n",
    "    \n",
    "    loss = (5.25 * images_mse + cross_entropy * 0.055) * 10\n",
    "    train_step = tf.train.AdamOptimizer(learning_rate).minimize(loss, var_list = (fc1_W, fc1_B, fc2_W, fc2_B, W_deconv1, b_deconv1, W_conv1, b_conv1, W_deconv2, b_deconv2, final_fc_W, final_fc_B))\n",
    "    \n",
    "    return train_step, loss, images_mse, cross_entropy, final_images_clipped"
   ]
  },
  {
   "cell_type": "code",
   "execution_count": 15,
   "metadata": {},
   "outputs": [],
   "source": [
    "mnist_trainer, mnist_accuracy, mnist_parameters = conv_mnist_network()\n",
    "\n",
    "trainer, loss, images_mse, cross_entropy, fake_images_creator = deceiver_network()"
   ]
  },
  {
   "cell_type": "code",
   "execution_count": 16,
   "metadata": {},
   "outputs": [
    {
     "name": "stdout",
     "output_type": "stream",
     "text": [
      "step 0\n",
      "step 1000\n",
      "step 2000\n",
      "step 3000\n",
      "step 4000\n",
      "step 5000\n",
      "step 6000\n",
      "step 7000\n",
      "step 8000\n",
      "step 9000\n",
      "step 10000\n",
      "step 11000\n",
      "step 12000\n",
      "step 13000\n",
      "step 14000\n",
      "step 15000\n",
      "step 16000\n",
      "step 17000\n",
      "step 18000\n",
      "step 19000\n"
     ]
    }
   ],
   "source": [
    "sess = tf.InteractiveSession()\n",
    "tf.global_variables_initializer().run()\n",
    "\n",
    "for i in range(20000):\n",
    "  batch = mnist.train.next_batch(50)\n",
    "  mnist_trainer.run(feed_dict={mnist_input: batch[0], mnist_labels: batch[1]})\n",
    "  if i % 1000 == 0:\n",
    "    print(\"step %d\" % i)\n"
   ]
  },
  {
   "cell_type": "code",
   "execution_count": 17,
   "metadata": {},
   "outputs": [
    {
     "name": "stdout",
     "output_type": "stream",
     "text": [
      "test accuracy 0.9863\n"
     ]
    }
   ],
   "source": [
    "print(\"test accuracy %g\" % mnist_accuracy.eval(feed_dict={\n",
    "    mnist_input: mnist.test.images, mnist_labels: mnist.test.labels}))"
   ]
  },
  {
   "cell_type": "code",
   "execution_count": 18,
   "metadata": {},
   "outputs": [
    {
     "name": "stdout",
     "output_type": "stream",
     "text": [
      "batch 0 loss: 788.321 images_mse 14.923555 cross entropy 8.789799\n",
      "batch 1000 loss: 3.017518 images_mse 0.057111043 cross entropy 0.034887623\n",
      "batch 2000 loss: 2.9012923 images_mse 0.054922674 cross entropy 0.03245851\n",
      "batch 3000 loss: 2.8596344 images_mse 0.054193046 cross entropy 0.026362658\n",
      "batch 4000 loss: 2.8584743 images_mse 0.05411539 cross entropy 0.031666167\n",
      "batch 5000 loss: 3.250472 images_mse 0.061590813 cross entropy 0.030825848\n",
      "batch 6000 loss: 2.9155116 images_mse 0.055187695 cross entropy 0.033014003\n",
      "batch 7000 loss: 3.169484 images_mse 0.060043123 cross entropy 0.031308725\n",
      "batch 8000 loss: 3.1545641 images_mse 0.059764393 cross entropy 0.03078856\n",
      "batch 9000 loss: 3.1112096 images_mse 0.058912165 cross entropy 0.033311054\n",
      "batch 10000 loss: 3.0380297 images_mse 0.057515398 cross entropy 0.0335839\n",
      "batch 11000 loss: 3.213129 images_mse 0.06070574 cross entropy 0.04741379\n",
      "batch 12000 loss: 3.107958 images_mse 0.05893206 cross entropy 0.02549982\n",
      "batch 13000 loss: 2.9329515 images_mse 0.055530407 cross entropy 0.032009415\n",
      "batch 14000 loss: 3.0791712 images_mse 0.058342062 cross entropy 0.029478328\n",
      "batch 15000 loss: 3.0497906 images_mse 0.05771433 cross entropy 0.035979036\n",
      "batch 16000 loss: 2.8378005 images_mse 0.053740557 cross entropy 0.02985651\n",
      "batch 17000 loss: 2.996058 images_mse 0.05672275 cross entropy 0.03293385\n",
      "batch 18000 loss: 2.9962757 images_mse 0.056747556 cross entropy 0.030961862\n",
      "batch 19000 loss: 2.9538085 images_mse 0.055939417 cross entropy 0.030889258\n"
     ]
    }
   ],
   "source": [
    "for i in range(20000):\n",
    "    N = 50\n",
    "    batch = mnist.train.next_batch(N)\n",
    "    batch_image = batch[0]\n",
    "    batch_labels = batch[1]\n",
    "    batch_fake_labels = get_batch_of_fake_labels(batch_labels)\n",
    "    loss_value, images_mse_value, ce_value, _ = sess.run([loss, images_mse, cross_entropy, trainer], feed_dict={\n",
    "            deceiver_expected_images: batch_image,\n",
    "            deceiver_input_labels: batch_labels,\n",
    "            deceiver_fake_labels : batch_fake_labels,\n",
    "            learning_rate: 1e-4,\n",
    "            batch_size: N})\n",
    "    if i % 1000 == 0:\n",
    "        print ('batch %s loss: %s images_mse %s cross entropy %s' % (i, loss_value, images_mse_value, ce_value))\n",
    "        "
   ]
  },
  {
   "cell_type": "code",
   "execution_count": 21,
   "metadata": {
    "scrolled": true
   },
   "outputs": [
    {
     "data": {
      "image/png": "[encoded data removed]",
      "text/plain": [
       "<matplotlib.figure.Figure at 0x1ae14117dd8>"
      ]
     },
     "metadata": {},
     "output_type": "display_data"
    },
    {
     "name": "stdout",
     "output_type": "stream",
     "text": [
      "classified as:  9\n",
      "with softmax confidence: [[3.2057747e-02 1.9305899e-06 9.8720484e-04 5.3026585e-04 1.1187398e-04\n",
      "  4.1889939e-03 4.8501342e-06 1.2219475e-05 1.0621654e-03 9.6104276e-01]]\n"
     ]
    },
    {
     "data": {
      "image/png": "[encoded data removed]",
      "text/plain": [
       "<matplotlib.figure.Figure at 0x1ae2e3f6eb8>"
      ]
     },
     "metadata": {},
     "output_type": "display_data"
    },
    {
     "name": "stdout",
     "output_type": "stream",
     "text": [
      "classified as:  8\n",
      "with softmax confidence: [[3.68899491e-05 1.58927180e-02 1.38312840e-04 2.54771614e-04\n",
      "  1.10652174e-04 1.52061657e-05 1.02119899e-04 2.43901632e-05\n",
      "  9.83381271e-01 4.37150811e-05]]\n"
     ]
    },
    {
     "data": {
      "image/png": "[encoded data removed]",
      "text/plain": [
       "<matplotlib.figure.Figure at 0x1ae2e393b00>"
      ]
     },
     "metadata": {},
     "output_type": "display_data"
    },
    {
     "name": "stdout",
     "output_type": "stream",
     "text": [
      "classified as:  6\n",
      "with softmax confidence: [[1.5581198e-03 3.3057306e-04 2.4399351e-02 6.3890675e-03 9.5186295e-04\n",
      "  2.5601350e-03 9.5731932e-01 5.1751173e-05 6.3878153e-03 5.2059811e-05]]\n"
     ]
    },
    {
     "data": {
      "image/png": "[encoded data removed]",
      "text/plain": [
       "<matplotlib.figure.Figure at 0x1ae2e3f6780>"
      ]
     },
     "metadata": {},
     "output_type": "display_data"
    },
    {
     "name": "stdout",
     "output_type": "stream",
     "text": [
      "classified as:  7\n",
      "with softmax confidence: [[6.5301574e-04 2.6758484e-04 4.0256777e-03 2.3482885e-02 1.0841899e-05\n",
      "  1.1504856e-03 1.5340743e-06 9.6825600e-01 1.8064146e-03 3.4555883e-04]]\n"
     ]
    },
    {
     "data": {
      "image/png": "[encoded data removed]",
      "text/plain": [
       "<matplotlib.figure.Figure at 0x1ae2e5010b8>"
      ]
     },
     "metadata": {},
     "output_type": "display_data"
    },
    {
     "name": "stdout",
     "output_type": "stream",
     "text": [
      "classified as:  7\n",
      "with softmax confidence: [[2.3841660e-03 1.0575814e-04 3.4891817e-04 2.1624654e-04 2.4408888e-02\n",
      "  9.3478215e-05 9.0181253e-05 9.6922976e-01 5.5911468e-04 2.5635401e-03]]\n"
     ]
    },
    {
     "data": {
      "image/png": "[encoded data removed]",
      "text/plain": [
       "<matplotlib.figure.Figure at 0x1ae2e5553c8>"
      ]
     },
     "metadata": {},
     "output_type": "display_data"
    },
    {
     "name": "stdout",
     "output_type": "stream",
     "text": [
      "classified as:  4\n",
      "with softmax confidence: [[1.4708230e-03 8.0603553e-05 7.2905095e-04 5.8882340e-04 9.7643209e-01\n",
      "  1.7949250e-02 3.3748397e-04 3.5645193e-05 1.9777538e-03 3.9868677e-04]]\n"
     ]
    },
    {
     "data": {
      "image/png": "[encoded data removed]",
      "text/plain": [
       "<matplotlib.figure.Figure at 0x1ae2e5b0f98>"
      ]
     },
     "metadata": {},
     "output_type": "display_data"
    },
    {
     "name": "stdout",
     "output_type": "stream",
     "text": [
      "classified as:  2\n",
      "with softmax confidence: [[5.8534425e-03 1.3047815e-04 9.6795547e-01 4.8030406e-04 1.2527958e-03\n",
      "  6.7075074e-04 2.2026761e-02 2.1771143e-06 1.6185987e-03 9.2237988e-06]]\n"
     ]
    },
    {
     "data": {
      "image/png": "[encoded data removed]",
      "text/plain": [
       "<matplotlib.figure.Figure at 0x1ae2e587048>"
      ]
     },
     "metadata": {},
     "output_type": "display_data"
    },
    {
     "name": "stdout",
     "output_type": "stream",
     "text": [
      "classified as:  4\n",
      "with softmax confidence: [[2.6611092e-03 2.7101784e-04 1.0831536e-03 4.9551128e-04 9.6998459e-01\n",
      "  7.1179729e-06 1.6520971e-07 2.2834994e-02 7.0500642e-04 1.9573541e-03]]\n"
     ]
    },
    {
     "data": {
      "image/png": "[encoded data removed]",
      "text/plain": [
       "<matplotlib.figure.Figure at 0x1ae2e478b38>"
      ]
     },
     "metadata": {},
     "output_type": "display_data"
    },
    {
     "name": "stdout",
     "output_type": "stream",
     "text": [
      "classified as:  9\n",
      "with softmax confidence: [[4.9874966e-04 7.1119990e-05 1.4039138e-03 4.2496272e-03 3.0650105e-04\n",
      "  1.7562091e-04 1.7405831e-05 6.9239875e-05 2.4014683e-02 9.6919316e-01]]\n"
     ]
    },
    {
     "data": {
      "image/png": "[encoded data removed]",
      "text/plain": [
       "<matplotlib.figure.Figure at 0x1ae2e459240>"
      ]
     },
     "metadata": {},
     "output_type": "display_data"
    },
    {
     "name": "stdout",
     "output_type": "stream",
     "text": [
      "classified as:  8\n",
      "with softmax confidence: [[8.6817297e-04 1.3852436e-05 5.7366153e-04 8.9268602e-04 5.6698738e-04\n",
      "  1.5252641e-05 4.8638449e-06 2.2019288e-03 9.7989672e-01 1.4965841e-02]]\n"
     ]
    }
   ],
   "source": [
    "import random\n",
    "def get_one_hot_for(val, max_random = 0.025):\n",
    "    vec = [0, 0, 0, 0, 0, 0, 0, 0, 0, 0]\n",
    "    vec[val] = 1\n",
    "    \"\"\"random_sum = 0\n",
    "    for x in range(10):\n",
    "        random_value = random.uniform(0, max_random)\n",
    "        random_sum += random_value\n",
    "        vec[x] = random_value\n",
    "        \n",
    "    vec[val] = 1 - random_sum + vec[val]\n",
    "    \"\"\"\n",
    "    return vec\n",
    "\n",
    "def get_image_for(val):\n",
    "    fake_image = sess.run([fake_images_creator], feed_dict={deceiver_input_labels: [get_one_hot_for(i)], batch_size:1})\n",
    "    return fake_image[0]\n",
    "\n",
    "\n",
    "for i in range(10):\n",
    "    img = get_image_for(i)\n",
    "    plt.imshow(img.reshape([28, 28]), cmap='gray')\n",
    "    plt.show()\n",
    "    \n",
    "    confidence = sess.run([run_conv_mnist_network(img, *mnist_parameters)])\n",
    "    \n",
    "    print(\"classified as: \", numpy.argmax(confidence))\n",
    "    print(\"with softmax confidence:\", tf.nn.softmax(confidence[0]).eval())"
   ]
  },
  {
   "cell_type": "code",
   "execution_count": null,
   "metadata": {
    "collapsed": true
   },
   "outputs": [],
   "source": []
  }
 ],
 "metadata": {
  "kernelspec": {
   "display_name": "Python 3",
   "language": "python",
   "name": "python3"
  },
  "language_info": {
   "codemirror_mode": {
    "name": "ipython",
    "version": 3
   },
   "file_extension": ".py",
   "mimetype": "text/x-python",
   "name": "python",
   "nbconvert_exporter": "python",
   "pygments_lexer": "ipython3",
   "version": "3.5.4"
  }
 },
 "nbformat": 4,
 "nbformat_minor": 2
}
